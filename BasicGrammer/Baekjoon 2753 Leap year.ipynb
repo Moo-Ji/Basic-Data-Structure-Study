{
 "cells": [
  {
   "cell_type": "code",
   "execution_count": 36,
   "metadata": {},
   "outputs": [
    {
     "name": "stdout",
     "output_type": "stream",
     "text": [
      "2012\n",
      "1\n"
     ]
    }
   ],
   "source": [
    "yearNum = int(input())\n",
    "if yearNum % 400 == 0:print(1)\n",
    "elif (yearNum % 4 == 0) & (yearNum % 100 != 0):print(1)\n",
    "else: print(0)"
   ]
  }
 ],
 "metadata": {
  "kernelspec": {
   "display_name": "Python 3",
   "language": "python",
   "name": "python3"
  },
  "language_info": {
   "codemirror_mode": {
    "name": "ipython",
    "version": 3
   },
   "file_extension": ".py",
   "mimetype": "text/x-python",
   "name": "python",
   "nbconvert_exporter": "python",
   "pygments_lexer": "ipython3",
   "version": "3.7.6"
  }
 },
 "nbformat": 4,
 "nbformat_minor": 4
}

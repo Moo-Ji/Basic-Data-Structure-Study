{
 "cells": [
  {
   "cell_type": "code",
   "execution_count": 57,
   "metadata": {},
   "outputs": [
    {
     "name": "stdout",
     "output_type": "stream",
     "text": [
      "26\n",
      "4\n"
     ]
    }
   ],
   "source": [
    "N = int(input())\n",
    "A = N\n",
    "if A < 10:\n",
    "    A = \"0\"+str(A)\n",
    "else:\n",
    "    A = str(A)\n",
    "def two_maker(N):\n",
    "    N = int(N)\n",
    "    if N < 10:\n",
    "        N = \"0\"+str(N)\n",
    "        m = int(N[0])+int(N[-1])\n",
    "        return (N[-1] + str(m)[-1])\n",
    "    else:\n",
    "        N = str(N)\n",
    "        m = int(N[0])+int(N[-1])\n",
    "    return (N[-1] + str(m)[-1])\n",
    "i = 1\n",
    "while True:\n",
    "    if two_maker(N) == A:\n",
    "        break\n",
    "    else:\n",
    "        i += 1\n",
    "        N = two_maker(N)\n",
    "#         print(N)\n",
    "print(i)           "
   ]
  },
  {
   "cell_type": "code",
   "execution_count": null,
   "metadata": {},
   "outputs": [],
   "source": []
  },
  {
   "cell_type": "code",
   "execution_count": null,
   "metadata": {},
   "outputs": [],
   "source": []
  }
 ],
 "metadata": {
  "kernelspec": {
   "display_name": "Python 3",
   "language": "python",
   "name": "python3"
  },
  "language_info": {
   "codemirror_mode": {
    "name": "ipython",
    "version": 3
   },
   "file_extension": ".py",
   "mimetype": "text/x-python",
   "name": "python",
   "nbconvert_exporter": "python",
   "pygments_lexer": "ipython3",
   "version": "3.7.6"
  }
 },
 "nbformat": 4,
 "nbformat_minor": 4
}

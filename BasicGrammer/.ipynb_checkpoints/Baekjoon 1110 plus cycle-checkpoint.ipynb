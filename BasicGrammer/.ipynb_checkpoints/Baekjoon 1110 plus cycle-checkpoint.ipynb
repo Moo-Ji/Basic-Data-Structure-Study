{
 "cells": [
  {
   "cell_type": "code",
   "execution_count": 18,
   "metadata": {},
   "outputs": [
    {
     "ename": "SyntaxError",
     "evalue": "invalid syntax (<ipython-input-18-e1f3b56cb34d>, line 11)",
     "output_type": "error",
     "traceback": [
      "\u001b[1;36m  File \u001b[1;32m\"<ipython-input-18-e1f3b56cb34d>\"\u001b[1;36m, line \u001b[1;32m11\u001b[0m\n\u001b[1;33m    while (N != two_maker(N)):\u001b[0m\n\u001b[1;37m        ^\u001b[0m\n\u001b[1;31mSyntaxError\u001b[0m\u001b[1;31m:\u001b[0m invalid syntax\n"
     ]
    }
   ],
   "source": [
    "N = int(input())\n",
    "i = 0\n",
    "def two_maker(N):\n",
    "    if N < 10:\n",
    "        N = \"0\"+str(N)\n",
    "        return (N[1] + str(int(N[0])+int(N[1])))\n",
    "    else:\n",
    "        N = str(N)\n",
    "    return (N[1] + str(int(N[0])+int(N[1]))\n",
    "\n",
    "while (N != two_maker(N)):\n",
    "    N = two_maker(N)\n",
    "    i += 1\n",
    "print(i)           "
   ]
  },
  {
   "cell_type": "code",
   "execution_count": null,
   "metadata": {},
   "outputs": [],
   "source": []
  },
  {
   "cell_type": "code",
   "execution_count": null,
   "metadata": {},
   "outputs": [],
   "source": []
  }
 ],
 "metadata": {
  "kernelspec": {
   "display_name": "Python 3",
   "language": "python",
   "name": "python3"
  },
  "language_info": {
   "codemirror_mode": {
    "name": "ipython",
    "version": 3
   },
   "file_extension": ".py",
   "mimetype": "text/x-python",
   "name": "python",
   "nbconvert_exporter": "python",
   "pygments_lexer": "ipython3",
   "version": "3.7.6"
  }
 },
 "nbformat": 4,
 "nbformat_minor": 4
}
